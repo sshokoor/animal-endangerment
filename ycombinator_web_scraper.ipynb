{
  "nbformat": 4,
  "nbformat_minor": 0,
  "metadata": {
    "colab": {
      "provenance": [],
      "authorship_tag": "ABX9TyPfaV1dNXT0jgbQdo+cZyuj",
      "include_colab_link": true
    },
    "kernelspec": {
      "name": "python3",
      "display_name": "Python 3"
    },
    "language_info": {
      "name": "python"
    }
  },
  "cells": [
    {
      "cell_type": "markdown",
      "metadata": {
        "id": "view-in-github",
        "colab_type": "text"
      },
      "source": [
        "<a href=\"https://colab.research.google.com/github/sshokoor/animal-endangerment/blob/main/ycombinator_web_scraper.ipynb\" target=\"_parent\"><img src=\"https://colab.research.google.com/assets/colab-badge.svg\" alt=\"Open In Colab\"/></a>"
      ]
    },
    {
      "cell_type": "code",
      "execution_count": 1,
      "metadata": {
        "id": "hwyj_DxPW6_t"
      },
      "outputs": [],
      "source": [
        "from bs4 import BeautifulSoup\n",
        "import requests\n",
        "from pprint import pprint"
      ]
    },
    {
      "cell_type": "code",
      "source": [
        "url = 'https://news.ycombinator.com/jobs'\n",
        "\n",
        "page = requests.get(url)\n",
        "\n",
        "soup = BeautifulSoup(page.content, 'html.parser')"
      ],
      "metadata": {
        "id": "RDV2WdNUW-3i"
      },
      "execution_count": 10,
      "outputs": []
    },
    {
      "cell_type": "code",
      "source": [
        "links = soup.find_all('span', 'titleline')\n",
        "dates = soup.find_all('td', 'subtext')\n",
        "\n",
        "pprint(links)\n",
        "print(dates)"
      ],
      "metadata": {
        "colab": {
          "base_uri": "https://localhost:8080/"
        },
        "id": "zxvNAi-PZK0d",
        "outputId": "69cc5799-7b67-481b-badf-4746adefd90a"
      },
      "execution_count": 11,
      "outputs": [
        {
          "output_type": "stream",
          "name": "stdout",
          "text": [
            "[<span class=\"titleline\"><a href=\"https://onesignal.com/careers/4264311006\" rel=\"nofollow noreferrer\">OneSignal (YC S11), email and push notification platform, is hiring engineers</a><span class=\"sitebit comhead\"> (<a href=\"from?site=onesignal.com\"><span class=\"sitestr\">onesignal.com</span></a>)</span></span>,\n",
            " <span class=\"titleline\"><a href=\"https://www.ycombinator.com/companies/stellar-sleep/jobs/Ubd4rCS-senior-staff-software-engineer\">Stellar Sleep (YC S23) Is Hiring a Senior/ Staff SWE in San Francisco</a><span class=\"sitebit comhead\"> (<a href=\"from?site=ycombinator.com\"><span class=\"sitestr\">ycombinator.com</span></a>)</span></span>,\n",
            " <span class=\"titleline\"><a href=\"https://etleap.com/careers/software-engineer/\" rel=\"nofollow noreferrer\">Etleap (YC W13) Is Hiring a Software Engineer (London – OR – San Francisco)</a><span class=\"sitebit comhead\"> (<a href=\"from?site=etleap.com\"><span class=\"sitestr\">etleap.com</span></a>)</span></span>,\n",
            " <span class=\"titleline\"><a href=\"https://www.workatastartup.com/jobs/61922/\" rel=\"nofollow noreferrer\">Emerge (YC W21) is hiring a lead front end engineer (remote, small team)</a><span class=\"sitebit comhead\"> (<a href=\"from?site=workatastartup.com\"><span class=\"sitestr\">workatastartup.com</span></a>)</span></span>,\n",
            " <span class=\"titleline\"><a href=\"https://www.ycombinator.com/companies/ivy/jobs\">Ivy (YC W23) Is Hiring Engineers to Unify ML</a><span class=\"sitebit comhead\"> (<a href=\"from?site=ycombinator.com\"><span class=\"sitestr\">ycombinator.com</span></a>)</span></span>,\n",
            " <span class=\"titleline\"><a href=\"item?id=37555031\">MixRank (YC S11) is hiring global remote software engineers</a></span>,\n",
            " <span class=\"titleline\"><a href=\"https://www.ycombinator.com/companies/gym-class-by-irl-studios/jobs/ADcM4ZV-backend-engineer\">Gym Class VR (YC W22) Is Hiring a Lead Back End Engineer</a><span class=\"sitebit comhead\"> (<a href=\"from?site=ycombinator.com\"><span class=\"sitestr\">ycombinator.com</span></a>)</span></span>,\n",
            " <span class=\"titleline\"><a href=\"https://lantern-db.notion.site/lantern-db/Lantern-is-hiring-Core-Database-Engineers-396a612dcfdb4c9eb274670680c8d8b5\" rel=\"nofollow noreferrer\">Lantern (YC W24) – Hiring Engineers to Build PostgreSQL Vector Database for AI</a><span class=\"sitebit comhead\"> (<a href=\"from?site=lantern-db.notion.site\"><span class=\"sitestr\">lantern-db.notion.site</span></a>)</span></span>,\n",
            " <span class=\"titleline\"><a href=\"https://www.ycombinator.com/companies/ploomber/jobs\">Ploomber (YC W22) Is Hiring Software Engineers</a><span class=\"sitebit comhead\"> (<a href=\"from?site=ycombinator.com\"><span class=\"sitestr\">ycombinator.com</span></a>)</span></span>,\n",
            " <span class=\"titleline\"><a href=\"https://www.ycombinator.com/companies/converge/jobs/vc4Nbeh-founding-product-engineer\">Converge (YC S23) is hiring a founding product engineer</a><span class=\"sitebit comhead\"> (<a href=\"from?site=ycombinator.com\"><span class=\"sitestr\">ycombinator.com</span></a>)</span></span>,\n",
            " <span class=\"titleline\"><a href=\"https://www.ycombinator.com/companies/loops/jobs/R5lUQcn-front-end-engineer\">Loops (YC W22) is hiring a remote front-end engineer</a><span class=\"sitebit comhead\"> (<a href=\"from?site=ycombinator.com\"><span class=\"sitestr\">ycombinator.com</span></a>)</span></span>,\n",
            " <span class=\"titleline\"><a href=\"https://up.codes/careers\" rel=\"nofollow noreferrer\">UpCodes (YC S17) is hiring remote engineers across the Americas</a><span class=\"sitebit comhead\"> (<a href=\"from?site=up.codes\"><span class=\"sitestr\">up.codes</span></a>)</span></span>,\n",
            " <span class=\"titleline\"><a href=\"https://www.ycombinator.com/companies/eqtble/jobs/bOX2JJp-junior-data-scientist\">Eqtble (YC W21) Is Hiring a Data Analyst</a><span class=\"sitebit comhead\"> (<a href=\"from?site=ycombinator.com\"><span class=\"sitestr\">ycombinator.com</span></a>)</span></span>,\n",
            " <span class=\"titleline\"><a href=\"item?id=37511584\">GoGoGrandparent (YC S16) is hiring a senior/staff back end/full-stack engineer</a></span>,\n",
            " <span class=\"titleline\"><a href=\"https://www.ycombinator.com/companies/firezone/jobs\">Firezone (YC W22) is hiring Rust engineers to build secure networks</a><span class=\"sitebit comhead\"> (<a href=\"from?site=ycombinator.com\"><span class=\"sitestr\">ycombinator.com</span></a>)</span></span>,\n",
            " <span class=\"titleline\"><a href=\"https://signoz.io/careers/product-designer-in/\">SigNoz (YC W21), open-source Datadog, is hiring product designers (remote)</a><span class=\"sitebit comhead\"> (<a href=\"from?site=signoz.io\"><span class=\"sitestr\">signoz.io</span></a>)</span></span>,\n",
            " <span class=\"titleline\"><a href=\"https://nango.dev/jobs\">Nango.dev (YC W23) is hiring a founding back end engineer (remote)</a><span class=\"sitebit comhead\"> (<a href=\"from?site=nango.dev\"><span class=\"sitestr\">nango.dev</span></a>)</span></span>,\n",
            " <span class=\"titleline\"><a href=\"https://www.justpaid.io/careers\">JustPaid.io (YC W23) is hiring a senior full stack engineer</a><span class=\"sitebit comhead\"> (<a href=\"from?site=justpaid.io\"><span class=\"sitestr\">justpaid.io</span></a>)</span></span>,\n",
            " <span class=\"titleline\"><a href=\"https://jobs.lever.co/FinleyTechnologies/0a143938-ef2a-47f3-a4c0-861ac68fb1b0\" rel=\"nofollow noreferrer\">Finley (YC W21) is hiring customer success managers in software (US remote)</a><span class=\"sitebit comhead\"> (<a href=\"from?site=lever.co\"><span class=\"sitestr\">lever.co</span></a>)</span></span>,\n",
            " <span class=\"titleline\"><a href=\"https://www.ycombinator.com/companies/treble-ai/jobs/tL8GeWc-full-stack-software-engineer\">Treble.ai (YC S19) Is Hiring Spanish Speaking Engineers in NYC</a><span class=\"sitebit comhead\"> (<a href=\"from?site=ycombinator.com\"><span class=\"sitestr\">ycombinator.com</span></a>)</span></span>,\n",
            " <span class=\"titleline\"><a href=\"https://padlet.jobs\" rel=\"nofollow noreferrer\">Padlet (YC W13) is hiring in Singapore and San Francisco</a><span class=\"sitebit comhead\"> (<a href=\"from?site=padlet.jobs\"><span class=\"sitestr\">padlet.jobs</span></a>)</span></span>,\n",
            " <span class=\"titleline\"><a href=\"item?id=37463864\">Meticulous (YC S21) is hiring engineer #3 to build AI for testing</a></span>,\n",
            " <span class=\"titleline\"><a href=\"https://www.ycombinator.com/companies/fathom/jobs/L0pyU04Gs-principal-site-reliability-engineer-remote\">Fathom AI Notetaker (YC W21) is hiring a principal SRE (remote)</a><span class=\"sitebit comhead\"> (<a href=\"from?site=ycombinator.com\"><span class=\"sitestr\">ycombinator.com</span></a>)</span></span>,\n",
            " <span class=\"titleline\"><a href=\"https://jobs.ashbyhq.com/freshpaint/bfe56523-bff4-4ca3-936b-0ba15fb4e572?utm_source=hn\">Freshpaint (YC S19) is hiring engineers to build a HIPAA compliant data platform</a><span class=\"sitebit comhead\"> (<a href=\"from?site=ashbyhq.com\"><span class=\"sitestr\">ashbyhq.com</span></a>)</span></span>,\n",
            " <span class=\"titleline\"><a href=\"https://skio.com/careers/\">Skio (YC S20) Is Hiring – Subscriptions for Shopify, ReCharge migrations</a><span class=\"sitebit comhead\"> (<a href=\"from?site=skio.com\"><span class=\"sitestr\">skio.com</span></a>)</span></span>,\n",
            " <span class=\"titleline\"><a href=\"item?id=37441168\">Generally Intelligent (YC S17) is hiring technical interviewers</a></span>,\n",
            " <span class=\"titleline\"><a href=\"https://www.ycombinator.com/companies/artie/jobs/PzBhYqV-founding-engineer\">Artie (YC S23) is hiring a founding engineer</a><span class=\"sitebit comhead\"> (<a href=\"from?site=ycombinator.com\"><span class=\"sitestr\">ycombinator.com</span></a>)</span></span>,\n",
            " <span class=\"titleline\"><a href=\"https://www.ycombinator.com/companies/policyfly/jobs/32uV7Bg-senior-solutions-engineer\">PolicyFly (YC W22) Is Hiring a Senior Solutions Engineer (Remote)</a><span class=\"sitebit comhead\"> (<a href=\"from?site=ycombinator.com\"><span class=\"sitestr\">ycombinator.com</span></a>)</span></span>,\n",
            " <span class=\"titleline\"><a href=\"https://www.easypost.com/careers\" rel=\"nofollow noreferrer\">EasyPost (YC S13) is hiring</a><span class=\"sitebit comhead\"> (<a href=\"from?site=easypost.com\"><span class=\"sitestr\">easypost.com</span></a>)</span></span>,\n",
            " <span class=\"titleline\"><a href=\"item?id=37386711\">Videobug (YC S22) is hiring a founding engineer – automated snapshot testing</a></span>]\n",
            "[<td class=\"subtext\">\n",
            "<span class=\"age\" title=\"2023-09-21T17:00:48\"><a href=\"item?id=37600542\">3 hours ago</a></span> </td>, <td class=\"subtext\">\n",
            "<span class=\"age\" title=\"2023-09-20T12:00:53\"><a href=\"item?id=37583116\">1 day ago</a></span> </td>, <td class=\"subtext\">\n",
            "<span class=\"age\" title=\"2023-09-20T01:00:54\"><a href=\"item?id=37579183\">1 day ago</a></span> </td>, <td class=\"subtext\">\n",
            "<span class=\"age\" title=\"2023-09-19T21:02:11\"><a href=\"item?id=37576580\">1 day ago</a></span> </td>, <td class=\"subtext\">\n",
            "<span class=\"age\" title=\"2023-09-19T17:00:53\"><a href=\"item?id=37572868\">2 days ago</a></span> </td>, <td class=\"subtext\">\n",
            "<span class=\"age\" title=\"2023-09-18T12:00:39\"><a href=\"item?id=37555031\">3 days ago</a></span> </td>, <td class=\"subtext\">\n",
            "<span class=\"age\" title=\"2023-09-17T01:00:57\"><a href=\"item?id=37540445\">4 days ago</a></span> </td>, <td class=\"subtext\">\n",
            "<span class=\"age\" title=\"2023-09-16T21:00:56\"><a href=\"item?id=37538654\">4 days ago</a></span> </td>, <td class=\"subtext\">\n",
            "<span class=\"age\" title=\"2023-09-16T12:00:30\"><a href=\"item?id=37534050\">5 days ago</a></span> </td>, <td class=\"subtext\">\n",
            "<span class=\"age\" title=\"2023-09-16T07:00:11\"><a href=\"item?id=37532618\">5 days ago</a></span> </td>, <td class=\"subtext\">\n",
            "<span class=\"age\" title=\"2023-09-15T17:01:09\"><a href=\"item?id=37526070\">6 days ago</a></span> </td>, <td class=\"subtext\">\n",
            "<span class=\"age\" title=\"2023-09-15T12:00:44\"><a href=\"item?id=37521690\">6 days ago</a></span> </td>, <td class=\"subtext\">\n",
            "<span class=\"age\" title=\"2023-09-15T07:00:24\"><a href=\"item?id=37519487\">6 days ago</a></span> </td>, <td class=\"subtext\">\n",
            "<span class=\"age\" title=\"2023-09-14T17:00:39\"><a href=\"item?id=37511584\">7 days ago</a></span> </td>, <td class=\"subtext\">\n",
            "<span class=\"age\" title=\"2023-09-14T12:02:32\"><a href=\"item?id=37507776\">7 days ago</a></span> </td>, <td class=\"subtext\">\n",
            "<span class=\"age\" title=\"2023-09-13T17:01:36\"><a href=\"item?id=37498935\">8 days ago</a></span> </td>, <td class=\"subtext\">\n",
            "<span class=\"age\" title=\"2023-09-13T14:43:41\"><a href=\"item?id=37497420\">8 days ago</a></span> </td>, <td class=\"subtext\">\n",
            "<span class=\"age\" title=\"2023-09-12T21:00:00\"><a href=\"item?id=37488252\">8 days ago</a></span> </td>, <td class=\"subtext\">\n",
            "<span class=\"age\" title=\"2023-09-12T17:01:17\"><a href=\"item?id=37484259\">9 days ago</a></span> </td>, <td class=\"subtext\">\n",
            "<span class=\"age\" title=\"2023-09-12T12:00:57\"><a href=\"item?id=37479749\">9 days ago</a></span> </td>, <td class=\"subtext\">\n",
            "<span class=\"age\" title=\"2023-09-12T01:01:17\"><a href=\"item?id=37475737\">9 days ago</a></span> </td>, <td class=\"subtext\">\n",
            "<span class=\"age\" title=\"2023-09-11T07:01:04\"><a href=\"item?id=37463864\">10 days ago</a></span> </td>, <td class=\"subtext\">\n",
            "<span class=\"age\" title=\"2023-09-10T21:00:05\"><a href=\"item?id=37460025\">10 days ago</a></span> </td>, <td class=\"subtext\">\n",
            "<span class=\"age\" title=\"2023-09-09T21:00:20\"><a href=\"item?id=37450228\">11 days ago</a></span> </td>, <td class=\"subtext\">\n",
            "<span class=\"age\" title=\"2023-09-09T12:01:05\"><a href=\"item?id=37444354\">12 days ago</a></span> </td>, <td class=\"subtext\">\n",
            "<span class=\"age\" title=\"2023-09-09T01:02:29\"><a href=\"item?id=37441168\">12 days ago</a></span> </td>, <td class=\"subtext\">\n",
            "<span class=\"age\" title=\"2023-09-08T17:01:02\"><a href=\"item?id=37436236\">13 days ago</a></span> </td>, <td class=\"subtext\">\n",
            "<span class=\"age\" title=\"2023-09-08T12:00:41\"><a href=\"item?id=37432420\">13 days ago</a></span> </td>, <td class=\"subtext\">\n",
            "<span class=\"age\" title=\"2023-09-05T17:01:15\"><a href=\"item?id=37394664\">16 days ago</a></span> </td>, <td class=\"subtext\">\n",
            "<span class=\"age\" title=\"2023-09-05T01:00:31\"><a href=\"item?id=37386711\">16 days ago</a></span> </td>]\n"
          ]
        }
      ]
    },
    {
      "cell_type": "code",
      "source": [
        "import re\n",
        "\n",
        "for link in soup.find_all('a',\n",
        "                          attrs={'href': re.compile(\"^https://\")}):\n",
        "    # display the actual urls\n",
        "    print(link.get('href'))"
      ],
      "metadata": {
        "colab": {
          "base_uri": "https://localhost:8080/"
        },
        "id": "ylsKIE3ssCVo",
        "outputId": "d78346a1-add5-4862-a876-c912fa20f72b"
      },
      "execution_count": 21,
      "outputs": [
        {
          "output_type": "stream",
          "name": "stdout",
          "text": [
            "https://news.ycombinator.com\n",
            "https://www.ycombinator.com/jobs\n",
            "https://onesignal.com/careers/4264311006\n",
            "https://www.ycombinator.com/companies/stellar-sleep/jobs/Ubd4rCS-senior-staff-software-engineer\n",
            "https://etleap.com/careers/software-engineer/\n",
            "https://www.workatastartup.com/jobs/61922/\n",
            "https://www.ycombinator.com/companies/ivy/jobs\n",
            "https://www.ycombinator.com/companies/gym-class-by-irl-studios/jobs/ADcM4ZV-backend-engineer\n",
            "https://lantern-db.notion.site/lantern-db/Lantern-is-hiring-Core-Database-Engineers-396a612dcfdb4c9eb274670680c8d8b5\n",
            "https://www.ycombinator.com/companies/ploomber/jobs\n",
            "https://www.ycombinator.com/companies/converge/jobs/vc4Nbeh-founding-product-engineer\n",
            "https://www.ycombinator.com/companies/loops/jobs/R5lUQcn-front-end-engineer\n",
            "https://up.codes/careers\n",
            "https://www.ycombinator.com/companies/eqtble/jobs/bOX2JJp-junior-data-scientist\n",
            "https://www.ycombinator.com/companies/firezone/jobs\n",
            "https://signoz.io/careers/product-designer-in/\n",
            "https://nango.dev/jobs\n",
            "https://www.justpaid.io/careers\n",
            "https://jobs.lever.co/FinleyTechnologies/0a143938-ef2a-47f3-a4c0-861ac68fb1b0\n",
            "https://www.ycombinator.com/companies/treble-ai/jobs/tL8GeWc-full-stack-software-engineer\n",
            "https://padlet.jobs\n",
            "https://www.ycombinator.com/companies/fathom/jobs/L0pyU04Gs-principal-site-reliability-engineer-remote\n",
            "https://jobs.ashbyhq.com/freshpaint/bfe56523-bff4-4ca3-936b-0ba15fb4e572?utm_source=hn\n",
            "https://skio.com/careers/\n",
            "https://www.ycombinator.com/companies/artie/jobs/PzBhYqV-founding-engineer\n",
            "https://www.ycombinator.com/companies/policyfly/jobs/32uV7Bg-senior-solutions-engineer\n",
            "https://www.easypost.com/careers\n",
            "https://www.ycombinator.com/apply/\n",
            "https://github.com/HackerNews/API\n",
            "https://www.ycombinator.com/legal/\n",
            "https://www.ycombinator.com/apply/\n"
          ]
        }
      ]
    },
    {
      "cell_type": "code",
      "source": [
        "links300 = soup.find_all(class_='titleline')[0:31]\n",
        "\n",
        "for text in links300:\n",
        "  print(text.get_text())"
      ],
      "metadata": {
        "colab": {
          "base_uri": "https://localhost:8080/"
        },
        "id": "MToOqe7TivF0",
        "outputId": "4d22cd62-f118-4033-99ce-25cbec6469e8"
      },
      "execution_count": 24,
      "outputs": [
        {
          "output_type": "stream",
          "name": "stdout",
          "text": [
            "OneSignal (YC S11), email and push notification platform, is hiring engineers (onesignal.com)\n",
            "Stellar Sleep (YC S23) Is Hiring a Senior/ Staff SWE in San Francisco (ycombinator.com)\n",
            "Etleap (YC W13) Is Hiring a Software Engineer (London – OR – San Francisco) (etleap.com)\n",
            "Emerge (YC W21) is hiring a lead front end engineer (remote, small team) (workatastartup.com)\n",
            "Ivy (YC W23) Is Hiring Engineers to Unify ML (ycombinator.com)\n",
            "MixRank (YC S11) is hiring global remote software engineers\n",
            "Gym Class VR (YC W22) Is Hiring a Lead Back End Engineer (ycombinator.com)\n",
            "Lantern (YC W24) – Hiring Engineers to Build PostgreSQL Vector Database for AI (lantern-db.notion.site)\n",
            "Ploomber (YC W22) Is Hiring Software Engineers (ycombinator.com)\n",
            "Converge (YC S23) is hiring a founding product engineer (ycombinator.com)\n",
            "Loops (YC W22) is hiring a remote front-end engineer (ycombinator.com)\n",
            "UpCodes (YC S17) is hiring remote engineers across the Americas (up.codes)\n",
            "Eqtble (YC W21) Is Hiring a Data Analyst (ycombinator.com)\n",
            "GoGoGrandparent (YC S16) is hiring a senior/staff back end/full-stack engineer\n",
            "Firezone (YC W22) is hiring Rust engineers to build secure networks (ycombinator.com)\n",
            "SigNoz (YC W21), open-source Datadog, is hiring product designers (remote) (signoz.io)\n",
            "Nango.dev (YC W23) is hiring a founding back end engineer (remote) (nango.dev)\n",
            "JustPaid.io (YC W23) is hiring a senior full stack engineer (justpaid.io)\n",
            "Finley (YC W21) is hiring customer success managers in software (US remote) (lever.co)\n",
            "Treble.ai (YC S19) Is Hiring Spanish Speaking Engineers in NYC (ycombinator.com)\n",
            "Padlet (YC W13) is hiring in Singapore and San Francisco (padlet.jobs)\n",
            "Meticulous (YC S21) is hiring engineer #3 to build AI for testing\n",
            "Fathom AI Notetaker (YC W21) is hiring a principal SRE (remote) (ycombinator.com)\n",
            "Freshpaint (YC S19) is hiring engineers to build a HIPAA compliant data platform (ashbyhq.com)\n",
            "Skio (YC S20) Is Hiring – Subscriptions for Shopify, ReCharge migrations (skio.com)\n",
            "Generally Intelligent (YC S17) is hiring technical interviewers\n",
            "Artie (YC S23) is hiring a founding engineer (ycombinator.com)\n",
            "PolicyFly (YC W22) Is Hiring a Senior Solutions Engineer (Remote) (ycombinator.com)\n",
            "EasyPost (YC S13) is hiring (easypost.com)\n",
            "Videobug (YC S22) is hiring a founding engineer – automated snapshot testing\n"
          ]
        }
      ]
    },
    {
      "cell_type": "code",
      "source": [
        "for link200 in links300:\n",
        "    if link200.find(string=re.compile(\"Data Analyst\")):\n",
        "        thelink = link200\n",
        "print(thelink)"
      ],
      "metadata": {
        "colab": {
          "base_uri": "https://localhost:8080/"
        },
        "id": "gFM-0rfPmNz_",
        "outputId": "125022ff-17b3-4b2c-9d38-966f8dd0965c"
      },
      "execution_count": 29,
      "outputs": [
        {
          "output_type": "stream",
          "name": "stdout",
          "text": [
            "<span class=\"titleline\"><a href=\"https://www.ycombinator.com/companies/eqtble/jobs/bOX2JJp-junior-data-scientist\">Eqtble (YC W21) Is Hiring a Data Analyst</a><span class=\"sitebit comhead\"> (<a href=\"from?site=ycombinator.com\"><span class=\"sitestr\">ycombinator.com</span></a>)</span></span>\n"
          ]
        }
      ]
    }
  ]
}